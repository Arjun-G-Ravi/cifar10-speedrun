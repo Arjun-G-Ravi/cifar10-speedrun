{
 "cells": [
  {
   "cell_type": "code",
   "execution_count": 1,
   "id": "c6cb7a44",
   "metadata": {},
   "outputs": [
    {
     "name": "stdout",
     "output_type": "stream",
     "text": [
      "Input Tensor:\n",
      " tensor([[-1.9915, -0.2065, -0.3332, -0.4277, -0.9269],\n",
      "        [-0.9389,  0.4607,  0.1462,  1.0789,  0.1023],\n",
      "        [-0.0251,  0.9277, -0.2428,  0.3498, -0.5157]])\n",
      "Softmax Output:\n",
      " tensor([[0.0503, 0.2997, 0.2640, 0.2402, 0.1458],\n",
      "        [0.0544, 0.2207, 0.1611, 0.4095, 0.1542],\n",
      "        [0.1547, 0.4011, 0.1244, 0.2250, 0.0947]])\n",
      "Sum of probabilities along dim=1 for each sample: tensor([1., 1., 1.])\n"
     ]
    }
   ],
   "source": [
    "import torch\n",
    "import torch.nn.functional as F\n",
    "\n",
    "# Create a sample tensor (e.g., raw scores from a linear layer)\n",
    "input_tensor = torch.randn(3, 5) # 3 samples, 5 classes\n",
    "\n",
    "# Apply softmax along a specified dimension (e.g., dim=1 for class probabilities)\n",
    "softmax_output = F.softmax(input_tensor, dim=1)\n",
    "\n",
    "print(\"Input Tensor:\\n\", input_tensor)\n",
    "print(\"Softmax Output:\\n\", softmax_output)\n",
    "print(\"Sum of probabilities along dim=1 for each sample:\", softmax_output.sum(dim=1))"
   ]
  },
  {
   "cell_type": "code",
   "execution_count": 3,
   "id": "22a3e934",
   "metadata": {},
   "outputs": [
    {
     "name": "stdout",
     "output_type": "stream",
     "text": [
      "Index of max in flattened tensor: 5\n",
      "Indices of max along dim 0: tensor([1, 0, 1])\n",
      "Indices of max along dim 1: tensor([1, 2])\n",
      "Indices of max along dim 1 (keepdim=True): tensor([[1],\n",
      "        [2]])\n"
     ]
    }
   ],
   "source": [
    "import torch\n",
    "\n",
    "# Define an input tensor\n",
    "input_tensor = torch.tensor([[1, 5, 2], [8, 3, 79]])\n",
    "\n",
    "# Find the index of the maximum value in the flattened tensor\n",
    "index_flat = torch.argmax(input_tensor)\n",
    "print(f\"Index of max in flattened tensor: {index_flat}\")\n",
    "\n",
    "# Find the indices of the maximum values along dimension 0 (columns)\n",
    "indices_dim0 = torch.argmax(input_tensor, dim=0)\n",
    "print(f\"Indices of max along dim 0: {indices_dim0}\")\n",
    "\n",
    "# Find the indices of the maximum values along dimension 1 (rows)\n",
    "indices_dim1 = torch.argmax(input_tensor, dim=1)\n",
    "print(f\"Indices of max along dim 1: {indices_dim1}\")\n",
    "\n",
    "# Find the indices of the maximum values along dimension 1, keeping the dimension\n",
    "indices_dim1_keepdim = torch.argmax(input_tensor, dim=1, keepdim=True)\n",
    "print(f\"Indices of max along dim 1 (keepdim=True): {indices_dim1_keepdim}\")"
   ]
  }
 ],
 "metadata": {
  "kernelspec": {
   "display_name": "cifar_env",
   "language": "python",
   "name": "python3"
  },
  "language_info": {
   "codemirror_mode": {
    "name": "ipython",
    "version": 3
   },
   "file_extension": ".py",
   "mimetype": "text/x-python",
   "name": "python",
   "nbconvert_exporter": "python",
   "pygments_lexer": "ipython3",
   "version": "3.13.5"
  }
 },
 "nbformat": 4,
 "nbformat_minor": 5
}
